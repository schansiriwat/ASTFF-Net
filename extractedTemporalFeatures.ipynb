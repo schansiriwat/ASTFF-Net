{
 "cells": [
  {
   "cell_type": "code",
   "execution_count": null,
   "id": "be42b21e",
   "metadata": {},
   "outputs": [],
   "source": [
    "from keras.layers import Input, Dense, LSTM, AveragePooling1D, Conv1D, Reshape, BatchNormalization, Activation, Dropout, Add,MaxPooling1D\n",
    "from keras.layers import GlobalAveragePooling2D, Flatten, GlobalAveragePooling1D,GlobalMaxPooling1D,ZeroPadding1D,Concatenate\n",
    "\n",
    "from keras.models import Sequential, Model\n",
    "from keras.models import load_model\n",
    "\n",
    "from keras.optimizers import SGD, RMSprop, Adam\n",
    "from keras.callbacks import ReduceLROnPlateau, ModelCheckpoint\n",
    "\n",
    "import numpy as np\n",
    "\n",
    "from sklearn.model_selection import train_test_split\n",
    "from sklearn.metrics import classification_report, confusion_matrix\n",
    "from sklearn.metrics import accuracy_score"
   ]
  },
  {
   "cell_type": "markdown",
   "id": "fe4ef6b8",
   "metadata": {},
   "source": [
    "# extracted feature from food11 "
   ]
  },
  {
   "cell_type": "code",
   "execution_count": null,
   "id": "d458c885",
   "metadata": {},
   "outputs": [],
   "source": [
    "nClasses = 11\n",
    "\n",
    "DES_DATASET = 'feature_food11'\n",
    "DES_MODEL_FILE = 'model'\n",
    "\n",
    "dataFile = DES_DATASET+\"/feature_food11_ResNet50.npy\"\n",
    "modelFile = DES_MODEL_FILE+\"/model_conv1d_lstm_food11.hdf5\"\n",
    "\n",
    "featureFile_conv1d = DES_DATASET+\"/feature_food11_conv1d\"\n",
    "featureFile_pooling = DES_DATASET+\"/feature_food11_pooling\"\n",
    "featureFile_lstm = DES_DATASET+\"/feature_food11_lstm\"\n",
    "\n",
    "x = np.load(dataFile)\n",
    "\n",
    "//load model \n",
    "model = load_model(modelFile)"
   ]
  },
  {
   "cell_type": "markdown",
   "id": "17e907c6",
   "metadata": {},
   "source": [
    "# extracted from conv1d"
   ]
  },
  {
   "cell_type": "code",
   "execution_count": null,
   "id": "925492ab",
   "metadata": {},
   "outputs": [],
   "source": [
    "model_conv1d = Model(input=model.input, output=model.layers[-7].output)\n",
    "opt = SGD(lr=0.001,momentum=0.9,decay=1e-6)\n",
    "model_conv1d.compile(optimizer=opt, loss='categorical_crossentropy',metrics=['accuracy'])\n",
    "\n",
    "\n",
    "features_conv1d = model_conv1d.predict(x,batch_size=32,verbose=1)\n",
    "np.save(featureFile_conv1d,features_conv1d)\n",
    "print(features_conv1d.shape)"
   ]
  },
  {
   "cell_type": "markdown",
   "id": "1ae81b21",
   "metadata": {},
   "source": [
    "# extracted from pooling"
   ]
  },
  {
   "cell_type": "code",
   "execution_count": null,
   "id": "bc59f6bf",
   "metadata": {},
   "outputs": [],
   "source": [
    "model_pooling = Model(input=model.input, output=model.layers[-6].output)\n",
    "opt = SGD(lr=0.001,momentum=0.9,decay=1e-6)\n",
    "model_pooling.compile(optimizer=opt, loss='categorical_crossentropy',metrics=['accuracy'])\n",
    "\n",
    "\n",
    "features_pooling = model_pooling.predict(x,batch_size=32,verbose=1)\n",
    "np.save(featureFile_pooling,features_pooling)\n",
    "print(features_pooling.shape)"
   ]
  },
  {
   "cell_type": "markdown",
   "id": "f3a76719",
   "metadata": {},
   "source": [
    "# extracted from lstm"
   ]
  },
  {
   "cell_type": "code",
   "execution_count": null,
   "id": "1d311858",
   "metadata": {},
   "outputs": [],
   "source": [
    "model_lstm = Model(input=model.input, output=model.layers[-4].output)\n",
    "opt = SGD(lr=0.001,momentum=0.9,decay=1e-6)\n",
    "model_lstm.compile(optimizer=opt, loss='categorical_crossentropy',metrics=['accuracy'])\n",
    "\n",
    "\n",
    "features_lstm = model_lstm.predict(x,batch_size=32,verbose=1)\n",
    "np.save(featureFile_lstm,features_lstm)\n",
    "print(features_lstm.shape)"
   ]
  }
 ],
 "metadata": {
  "kernelspec": {
   "display_name": "Python 3 (ipykernel)",
   "language": "python",
   "name": "python3"
  },
  "language_info": {
   "codemirror_mode": {
    "name": "ipython",
    "version": 3
   },
   "file_extension": ".py",
   "mimetype": "text/x-python",
   "name": "python",
   "nbconvert_exporter": "python",
   "pygments_lexer": "ipython3",
   "version": "3.7.13"
  }
 },
 "nbformat": 4,
 "nbformat_minor": 5
}
