{
 "cells": [
  {
   "cell_type": "code",
   "execution_count": null,
   "id": "ae8a3039",
   "metadata": {},
   "outputs": [],
   "source": [
    "import tensorflow.keras\n",
    "from keras.applications.imagenet_utils import preprocess_input\n",
    "from keras.preprocessing import image\n",
    "from keras.utils import np_utils\n",
    "\n",
    "from keras.models import load_model\n",
    "from keras.models import Sequential, Model\n",
    "\n",
    "from tensorflow.keras.optimizers import SGD\n",
    "\n",
    "import numpy as np\n",
    "from keras.layers import Input"
   ]
  },
  {
   "cell_type": "markdown",
   "id": "89c6281f",
   "metadata": {},
   "source": [
    "# extected feature"
   ]
  },
  {
   "cell_type": "code",
   "execution_count": null,
   "id": "b58876f9",
   "metadata": {},
   "outputs": [],
   "source": [
    "data_name = 'data/data_food11.npy'\n",
    "model_name_load = 'models/model_resNet50.hdf5'\n",
    "feature_name = 'features/feature_food11_ResNet50'\n",
    "\n",
    "model = load_model(model_name_load)\n",
    "model.layers[-7].output\n",
    "model1 = Model(inputs=model.input, outputs=model.layers[-7].output)\n",
    "opt = SGD(lr=0.0001,momentum=0.9)\n",
    "model1.compile(optimizer=opt, loss='categorical_crossentropy',metrics=['accuracy'])\n",
    "\n",
    "data_load = np.load(data_name)\n",
    "features = model1.predict(data_load,batch_size=32,verbose=1)\n",
    "np.save(feature_name,features)"
   ]
  }
 ],
 "metadata": {
  "kernelspec": {
   "display_name": "Python 3 (ipykernel)",
   "language": "python",
   "name": "python3"
  },
  "language_info": {
   "codemirror_mode": {
    "name": "ipython",
    "version": 3
   },
   "file_extension": ".py",
   "mimetype": "text/x-python",
   "name": "python",
   "nbconvert_exporter": "python",
   "pygments_lexer": "ipython3",
   "version": "3.7.13"
  }
 },
 "nbformat": 4,
 "nbformat_minor": 5
}
