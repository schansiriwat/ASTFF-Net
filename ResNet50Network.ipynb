{
 "cells": [
  {
   "cell_type": "code",
   "execution_count": null,
   "id": "ac824174",
   "metadata": {},
   "outputs": [],
   "source": [
    "from sklearn.model_selection import train_test_split\n",
    "from tensorflow.keras.optimizers import SGD\n",
    "from keras.utils import np_utils\n",
    "from keras.preprocessing import image\n",
    "from keras.layers import Input\n",
    "from keras.preprocessing.image import ImageDataGenerator\n",
    "from keras.models import Sequential, Model\n",
    "from keras.layers import Dense, Dropout, Activation, Flatten,BatchNormalization\n",
    "from keras.layers import Convolution2D, MaxPooling2D, ZeroPadding2D, GlobalAveragePooling2D, AveragePooling2D\n",
    "#from keras.layers.normalization import BatchNormalization\n",
    "#from keras.layers import BatchNormalization, GlobalAveragePooling2D,Dense, Dropout, Activation\n",
    "from keras.preprocessing.image import ImageDataGenerator\n",
    "from keras.callbacks import ModelCheckpoint, TensorBoard, CSVLogger\n",
    "import numpy as np\n",
    "\n",
    "from tensorflow.keras.applications.resnet50 import ResNet50"
   ]
  },
  {
   "cell_type": "code",
   "execution_count": null,
   "id": "2fae1b0c",
   "metadata": {},
   "outputs": [],
   "source": [
    "image_size = 224\n",
    "batch_size = 32\n",
    "epoch = 100\n",
    "model_name = 'ResNet50'\n",
    "DATA_DIR = 'data'\n",
    "\n",
    "aug = ImageDataGenerator(rotation_range=45,\n",
    "                        width_shift_range=0.125,\n",
    "                        height_shift_range=0.125,\n",
    "                        horizontal_flip=True,\n",
    "                        fill_mode='nearest')"
   ]
  },
  {
   "cell_type": "markdown",
   "id": "215ff696",
   "metadata": {},
   "source": [
    "# Load dataset"
   ]
  },
  {
   "cell_type": "code",
   "execution_count": null,
   "id": "80b653ef",
   "metadata": {},
   "outputs": [],
   "source": [
    "x = DATA_DIR+'/data_food11.npy'\n",
    "y = DATA_DIR+'/label_food11.npy'\n",
    "x = np.load(x)\n",
    "y = np.load(y)\n",
    "\n",
    "X_train, X_test, y_train, y_test = train_test_split(x, y, test_size=0.2)\n",
    "print('load data ',temp_data,' complete')"
   ]
  },
  {
   "cell_type": "markdown",
   "id": "0b2774b2",
   "metadata": {},
   "source": [
    "# Create model"
   ]
  },
  {
   "cell_type": "code",
   "execution_count": null,
   "id": "c8c3974b",
   "metadata": {},
   "outputs": [],
   "source": [
    "base_model = ResNet50(weights='imagenet', include_top=False, input_tensor=Input(shape=(image_size, image_size, 3)))\n",
    "nlayers = -12\n",
    "\n",
    "#create the model\n",
    "x = base_model.output\n",
    "x = BatchNormalization()(x)\n",
    "x = GlobalAveragePooling2D()(x)\n",
    "x = Dense(512)(x)\n",
    "x = Activation('relu')(x)\n",
    "x = Dropout(.2)(x)\n",
    "predictions = Dense(10, activation='softmax')(x)\n",
    "model = Model(inputs=base_model.input, outputs=predictions)\n",
    "\n",
    "for layer in base_model.layers:\n",
    "    layer.trainable = True\n",
    "for layer in base_model.layers[:nlayers]:\n",
    "    layer.trainable = False\n",
    "        \n",
    "opt = SGD(lr=1e-1,momentum=0.9,decay=1e-1/epoch)\n",
    "model.compile(optimizer=opt, loss='categorical_crossentropy', metrics=['accuracy'])\n",
    "    \n",
    "print('create model ',temp_model_name,' complete')\n",
    "        \n"
   ]
  },
  {
   "cell_type": "markdown",
   "id": "f044015a",
   "metadata": {},
   "source": [
    "# Fit model"
   ]
  },
  {
   "cell_type": "code",
   "execution_count": null,
   "id": "4c51c87e",
   "metadata": {},
   "outputs": [],
   "source": [
    "fileModel = 'models/model_resNet50.hdf5'\n",
    "checkpointer = ModelCheckpoint(filepath=fileModel, verbose=1, save_best_only=True)\n",
    "        \n",
    "model.fit_generator(aug.flow(X_train,y_train,batch_size=batch_size),\n",
    "                    validation_data=(X_test,y_test),\n",
    "                    steps_per_epoch = len(X_train)//batch_size,\n",
    "                    epochs=epoch,\n",
    "                    verbose=1,\n",
    "                    callbacks=[checkpointer])"
   ]
  }
 ],
 "metadata": {
  "kernelspec": {
   "display_name": "Python 3 (ipykernel)",
   "language": "python",
   "name": "python3"
  },
  "language_info": {
   "codemirror_mode": {
    "name": "ipython",
    "version": 3
   },
   "file_extension": ".py",
   "mimetype": "text/x-python",
   "name": "python",
   "nbconvert_exporter": "python",
   "pygments_lexer": "ipython3",
   "version": "3.7.13"
  }
 },
 "nbformat": 4,
 "nbformat_minor": 5
}
